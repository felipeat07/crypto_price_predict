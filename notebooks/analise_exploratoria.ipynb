{
 "cells": [
  {
   "cell_type": "markdown",
   "metadata": {},
   "source": [
    "### Notebook dedicado para a análise exploratoria dos dados"
   ]
  },
  {
   "cell_type": "markdown",
   "metadata": {},
   "source": [
    "## Binance-Usd"
   ]
  },
  {
   "cell_type": "code",
   "execution_count": 55,
   "metadata": {},
   "outputs": [],
   "source": [
    "import pandas as pd"
   ]
  },
  {
   "cell_type": "code",
   "execution_count": 62,
   "metadata": {},
   "outputs": [
    {
     "data": {
      "text/html": [
       "<div>\n",
       "<style scoped>\n",
       "    .dataframe tbody tr th:only-of-type {\n",
       "        vertical-align: middle;\n",
       "    }\n",
       "\n",
       "    .dataframe tbody tr th {\n",
       "        vertical-align: top;\n",
       "    }\n",
       "\n",
       "    .dataframe thead th {\n",
       "        text-align: right;\n",
       "    }\n",
       "</style>\n",
       "<table border=\"1\" class=\"dataframe\">\n",
       "  <thead>\n",
       "    <tr style=\"text-align: right;\">\n",
       "      <th></th>\n",
       "      <th>date</th>\n",
       "      <th>price</th>\n",
       "      <th>total_volume</th>\n",
       "      <th>market_cap</th>\n",
       "      <th>coin_name</th>\n",
       "    </tr>\n",
       "  </thead>\n",
       "  <tbody>\n",
       "    <tr>\n",
       "      <th>0</th>\n",
       "      <td>2019-09-21</td>\n",
       "      <td>1.000332</td>\n",
       "      <td>2.557694e+05</td>\n",
       "      <td>0.0</td>\n",
       "      <td>binance-usd</td>\n",
       "    </tr>\n",
       "    <tr>\n",
       "      <th>1</th>\n",
       "      <td>2019-09-22</td>\n",
       "      <td>1.000671</td>\n",
       "      <td>1.827058e+05</td>\n",
       "      <td>0.0</td>\n",
       "      <td>binance-usd</td>\n",
       "    </tr>\n",
       "    <tr>\n",
       "      <th>2</th>\n",
       "      <td>2019-09-23</td>\n",
       "      <td>0.999807</td>\n",
       "      <td>1.500765e+05</td>\n",
       "      <td>0.0</td>\n",
       "      <td>binance-usd</td>\n",
       "    </tr>\n",
       "    <tr>\n",
       "      <th>3</th>\n",
       "      <td>2019-09-24</td>\n",
       "      <td>0.999933</td>\n",
       "      <td>1.528188e+06</td>\n",
       "      <td>0.0</td>\n",
       "      <td>binance-usd</td>\n",
       "    </tr>\n",
       "    <tr>\n",
       "      <th>4</th>\n",
       "      <td>2019-09-25</td>\n",
       "      <td>1.002317</td>\n",
       "      <td>4.093715e+06</td>\n",
       "      <td>0.0</td>\n",
       "      <td>binance-usd</td>\n",
       "    </tr>\n",
       "  </tbody>\n",
       "</table>\n",
       "</div>"
      ],
      "text/plain": [
       "         date     price  total_volume  market_cap    coin_name\n",
       "0  2019-09-21  1.000332  2.557694e+05         0.0  binance-usd\n",
       "1  2019-09-22  1.000671  1.827058e+05         0.0  binance-usd\n",
       "2  2019-09-23  0.999807  1.500765e+05         0.0  binance-usd\n",
       "3  2019-09-24  0.999933  1.528188e+06         0.0  binance-usd\n",
       "4  2019-09-25  1.002317  4.093715e+06         0.0  binance-usd"
      ]
     },
     "metadata": {},
     "output_type": "display_data"
    },
    {
     "data": {
      "text/html": [
       "<div>\n",
       "<style scoped>\n",
       "    .dataframe tbody tr th:only-of-type {\n",
       "        vertical-align: middle;\n",
       "    }\n",
       "\n",
       "    .dataframe tbody tr th {\n",
       "        vertical-align: top;\n",
       "    }\n",
       "\n",
       "    .dataframe thead th {\n",
       "        text-align: right;\n",
       "    }\n",
       "</style>\n",
       "<table border=\"1\" class=\"dataframe\">\n",
       "  <thead>\n",
       "    <tr style=\"text-align: right;\">\n",
       "      <th></th>\n",
       "      <th>date</th>\n",
       "      <th>price</th>\n",
       "      <th>total_volume</th>\n",
       "      <th>market_cap</th>\n",
       "      <th>coin_name</th>\n",
       "    </tr>\n",
       "  </thead>\n",
       "  <tbody>\n",
       "    <tr>\n",
       "      <th>1645</th>\n",
       "      <td>2024-03-23</td>\n",
       "      <td>0.999402</td>\n",
       "      <td>1.177621e+07</td>\n",
       "      <td>8.445185e+07</td>\n",
       "      <td>binance-usd</td>\n",
       "    </tr>\n",
       "    <tr>\n",
       "      <th>1646</th>\n",
       "      <td>2024-03-24</td>\n",
       "      <td>0.996952</td>\n",
       "      <td>9.868387e+06</td>\n",
       "      <td>8.448490e+07</td>\n",
       "      <td>binance-usd</td>\n",
       "    </tr>\n",
       "    <tr>\n",
       "      <th>1647</th>\n",
       "      <td>2024-03-25</td>\n",
       "      <td>0.998738</td>\n",
       "      <td>1.173301e+07</td>\n",
       "      <td>8.435271e+07</td>\n",
       "      <td>binance-usd</td>\n",
       "    </tr>\n",
       "    <tr>\n",
       "      <th>1648</th>\n",
       "      <td>2024-03-26</td>\n",
       "      <td>0.999100</td>\n",
       "      <td>1.644060e+07</td>\n",
       "      <td>8.418815e+07</td>\n",
       "      <td>binance-usd</td>\n",
       "    </tr>\n",
       "    <tr>\n",
       "      <th>1649</th>\n",
       "      <td>2024-03-27</td>\n",
       "      <td>1.001286</td>\n",
       "      <td>1.687316e+07</td>\n",
       "      <td>8.435543e+07</td>\n",
       "      <td>binance-usd</td>\n",
       "    </tr>\n",
       "  </tbody>\n",
       "</table>\n",
       "</div>"
      ],
      "text/plain": [
       "            date     price  total_volume    market_cap    coin_name\n",
       "1645  2024-03-23  0.999402  1.177621e+07  8.445185e+07  binance-usd\n",
       "1646  2024-03-24  0.996952  9.868387e+06  8.448490e+07  binance-usd\n",
       "1647  2024-03-25  0.998738  1.173301e+07  8.435271e+07  binance-usd\n",
       "1648  2024-03-26  0.999100  1.644060e+07  8.418815e+07  binance-usd\n",
       "1649  2024-03-27  1.001286  1.687316e+07  8.435543e+07  binance-usd"
      ]
     },
     "metadata": {},
     "output_type": "display_data"
    },
    {
     "data": {
      "text/plain": [
       "'Número de linhas e colunas:'"
      ]
     },
     "metadata": {},
     "output_type": "display_data"
    },
    {
     "data": {
      "text/plain": [
       "(1650, 5)"
      ]
     },
     "metadata": {},
     "output_type": "display_data"
    },
    {
     "data": {
      "text/plain": [
       "'Tipos de dados em cada coluna:'"
      ]
     },
     "metadata": {},
     "output_type": "display_data"
    },
    {
     "data": {
      "text/plain": [
       "date             object\n",
       "price           float64\n",
       "total_volume    float64\n",
       "market_cap      float64\n",
       "coin_name        object\n",
       "dtype: object"
      ]
     },
     "metadata": {},
     "output_type": "display_data"
    },
    {
     "data": {
      "text/plain": [
       "'Estatísticas descritivas:'"
      ]
     },
     "metadata": {},
     "output_type": "display_data"
    },
    {
     "data": {
      "text/html": [
       "<div>\n",
       "<style scoped>\n",
       "    .dataframe tbody tr th:only-of-type {\n",
       "        vertical-align: middle;\n",
       "    }\n",
       "\n",
       "    .dataframe tbody tr th {\n",
       "        vertical-align: top;\n",
       "    }\n",
       "\n",
       "    .dataframe thead th {\n",
       "        text-align: right;\n",
       "    }\n",
       "</style>\n",
       "<table border=\"1\" class=\"dataframe\">\n",
       "  <thead>\n",
       "    <tr style=\"text-align: right;\">\n",
       "      <th></th>\n",
       "      <th>price</th>\n",
       "      <th>total_volume</th>\n",
       "      <th>market_cap</th>\n",
       "    </tr>\n",
       "  </thead>\n",
       "  <tbody>\n",
       "    <tr>\n",
       "      <th>count</th>\n",
       "      <td>1650.000000</td>\n",
       "      <td>1.650000e+03</td>\n",
       "      <td>1.650000e+03</td>\n",
       "    </tr>\n",
       "    <tr>\n",
       "      <th>mean</th>\n",
       "      <td>1.000549</td>\n",
       "      <td>3.654161e+09</td>\n",
       "      <td>7.452482e+09</td>\n",
       "    </tr>\n",
       "    <tr>\n",
       "      <th>std</th>\n",
       "      <td>0.003121</td>\n",
       "      <td>6.167885e+09</td>\n",
       "      <td>7.537219e+09</td>\n",
       "    </tr>\n",
       "    <tr>\n",
       "      <th>min</th>\n",
       "      <td>0.938718</td>\n",
       "      <td>1.376619e+05</td>\n",
       "      <td>0.000000e+00</td>\n",
       "    </tr>\n",
       "    <tr>\n",
       "      <th>25%</th>\n",
       "      <td>0.999483</td>\n",
       "      <td>2.129978e+08</td>\n",
       "      <td>1.996874e+08</td>\n",
       "    </tr>\n",
       "    <tr>\n",
       "      <th>50%</th>\n",
       "      <td>1.000373</td>\n",
       "      <td>2.963073e+09</td>\n",
       "      <td>4.036886e+09</td>\n",
       "    </tr>\n",
       "    <tr>\n",
       "      <th>75%</th>\n",
       "      <td>1.001470</td>\n",
       "      <td>5.230674e+09</td>\n",
       "      <td>1.431316e+10</td>\n",
       "    </tr>\n",
       "    <tr>\n",
       "      <th>max</th>\n",
       "      <td>1.036083</td>\n",
       "      <td>1.306311e+11</td>\n",
       "      <td>2.349226e+10</td>\n",
       "    </tr>\n",
       "  </tbody>\n",
       "</table>\n",
       "</div>"
      ],
      "text/plain": [
       "             price  total_volume    market_cap\n",
       "count  1650.000000  1.650000e+03  1.650000e+03\n",
       "mean      1.000549  3.654161e+09  7.452482e+09\n",
       "std       0.003121  6.167885e+09  7.537219e+09\n",
       "min       0.938718  1.376619e+05  0.000000e+00\n",
       "25%       0.999483  2.129978e+08  1.996874e+08\n",
       "50%       1.000373  2.963073e+09  4.036886e+09\n",
       "75%       1.001470  5.230674e+09  1.431316e+10\n",
       "max       1.036083  1.306311e+11  2.349226e+10"
      ]
     },
     "metadata": {},
     "output_type": "display_data"
    },
    {
     "data": {
      "text/plain": [
       "'Valores ausentes por coluna:'"
      ]
     },
     "metadata": {},
     "output_type": "display_data"
    },
    {
     "data": {
      "text/plain": [
       "date            0\n",
       "price           0\n",
       "total_volume    0\n",
       "market_cap      0\n",
       "coin_name       0\n",
       "dtype: int64"
      ]
     },
     "metadata": {},
     "output_type": "display_data"
    }
   ],
   "source": [
    "dados = pd.read_csv('..\\\\data\\\\binance-usd.csv')\n",
    "display(dados.head())\n",
    "display(dados.tail())\n",
    "display(\"Número de linhas e colunas:\", dados.shape)\n",
    "display(\"Tipos de dados em cada coluna:\", dados.dtypes)\n",
    "display(\"Estatísticas descritivas:\", dados.describe())\n",
    "display(\"Valores ausentes por coluna:\", dados.isnull().sum())"
   ]
  },
  {
   "cell_type": "markdown",
   "metadata": {},
   "source": [
    "## Bitcoin"
   ]
  },
  {
   "cell_type": "code",
   "execution_count": 63,
   "metadata": {},
   "outputs": [
    {
     "data": {
      "text/html": [
       "<div>\n",
       "<style scoped>\n",
       "    .dataframe tbody tr th:only-of-type {\n",
       "        vertical-align: middle;\n",
       "    }\n",
       "\n",
       "    .dataframe tbody tr th {\n",
       "        vertical-align: top;\n",
       "    }\n",
       "\n",
       "    .dataframe thead th {\n",
       "        text-align: right;\n",
       "    }\n",
       "</style>\n",
       "<table border=\"1\" class=\"dataframe\">\n",
       "  <thead>\n",
       "    <tr style=\"text-align: right;\">\n",
       "      <th></th>\n",
       "      <th>date</th>\n",
       "      <th>price</th>\n",
       "      <th>total_volume</th>\n",
       "      <th>market_cap</th>\n",
       "      <th>coin_name</th>\n",
       "    </tr>\n",
       "  </thead>\n",
       "  <tbody>\n",
       "    <tr>\n",
       "      <th>0</th>\n",
       "      <td>2015-01-01 00:00:00.000</td>\n",
       "      <td>313.992</td>\n",
       "      <td>4.699936e+07</td>\n",
       "      <td>4.293958e+09</td>\n",
       "      <td>bitcoin</td>\n",
       "    </tr>\n",
       "    <tr>\n",
       "      <th>1</th>\n",
       "      <td>2015-01-02 00:00:00.000</td>\n",
       "      <td>314.446</td>\n",
       "      <td>3.885591e+07</td>\n",
       "      <td>4.301448e+09</td>\n",
       "      <td>bitcoin</td>\n",
       "    </tr>\n",
       "    <tr>\n",
       "      <th>2</th>\n",
       "      <td>2015-01-03 00:00:00.000</td>\n",
       "      <td>286.572</td>\n",
       "      <td>1.187789e+08</td>\n",
       "      <td>3.921358e+09</td>\n",
       "      <td>bitcoin</td>\n",
       "    </tr>\n",
       "    <tr>\n",
       "      <th>3</th>\n",
       "      <td>2015-01-04 00:00:00.000</td>\n",
       "      <td>260.936</td>\n",
       "      <td>2.055001e+08</td>\n",
       "      <td>3.571640e+09</td>\n",
       "      <td>bitcoin</td>\n",
       "    </tr>\n",
       "    <tr>\n",
       "      <th>4</th>\n",
       "      <td>2015-01-05 00:00:00.000</td>\n",
       "      <td>273.220</td>\n",
       "      <td>1.550381e+08</td>\n",
       "      <td>3.740880e+09</td>\n",
       "      <td>bitcoin</td>\n",
       "    </tr>\n",
       "  </tbody>\n",
       "</table>\n",
       "</div>"
      ],
      "text/plain": [
       "                      date    price  total_volume    market_cap coin_name\n",
       "0  2015-01-01 00:00:00.000  313.992  4.699936e+07  4.293958e+09   bitcoin\n",
       "1  2015-01-02 00:00:00.000  314.446  3.885591e+07  4.301448e+09   bitcoin\n",
       "2  2015-01-03 00:00:00.000  286.572  1.187789e+08  3.921358e+09   bitcoin\n",
       "3  2015-01-04 00:00:00.000  260.936  2.055001e+08  3.571640e+09   bitcoin\n",
       "4  2015-01-05 00:00:00.000  273.220  1.550381e+08  3.740880e+09   bitcoin"
      ]
     },
     "metadata": {},
     "output_type": "display_data"
    },
    {
     "data": {
      "text/html": [
       "<div>\n",
       "<style scoped>\n",
       "    .dataframe tbody tr th:only-of-type {\n",
       "        vertical-align: middle;\n",
       "    }\n",
       "\n",
       "    .dataframe tbody tr th {\n",
       "        vertical-align: top;\n",
       "    }\n",
       "\n",
       "    .dataframe thead th {\n",
       "        text-align: right;\n",
       "    }\n",
       "</style>\n",
       "<table border=\"1\" class=\"dataframe\">\n",
       "  <thead>\n",
       "    <tr style=\"text-align: right;\">\n",
       "      <th></th>\n",
       "      <th>date</th>\n",
       "      <th>price</th>\n",
       "      <th>total_volume</th>\n",
       "      <th>market_cap</th>\n",
       "      <th>coin_name</th>\n",
       "    </tr>\n",
       "  </thead>\n",
       "  <tbody>\n",
       "    <tr>\n",
       "      <th>3368</th>\n",
       "      <td>2024-03-23 00:00:00.000</td>\n",
       "      <td>63509.044965</td>\n",
       "      <td>4.243660e+10</td>\n",
       "      <td>1.247366e+12</td>\n",
       "      <td>bitcoin</td>\n",
       "    </tr>\n",
       "    <tr>\n",
       "      <th>3369</th>\n",
       "      <td>2024-03-24 00:00:00.000</td>\n",
       "      <td>64285.802791</td>\n",
       "      <td>2.548993e+10</td>\n",
       "      <td>1.264722e+12</td>\n",
       "      <td>bitcoin</td>\n",
       "    </tr>\n",
       "    <tr>\n",
       "      <th>3370</th>\n",
       "      <td>2024-03-25 00:00:00.000</td>\n",
       "      <td>67310.983268</td>\n",
       "      <td>2.809832e+10</td>\n",
       "      <td>1.323456e+12</td>\n",
       "      <td>bitcoin</td>\n",
       "    </tr>\n",
       "    <tr>\n",
       "      <th>3371</th>\n",
       "      <td>2024-03-26 00:00:00.000</td>\n",
       "      <td>69938.945302</td>\n",
       "      <td>4.482031e+10</td>\n",
       "      <td>1.371797e+12</td>\n",
       "      <td>bitcoin</td>\n",
       "    </tr>\n",
       "    <tr>\n",
       "      <th>3372</th>\n",
       "      <td>2024-03-27 00:00:00.000</td>\n",
       "      <td>70082.051225</td>\n",
       "      <td>3.625732e+10</td>\n",
       "      <td>1.375729e+12</td>\n",
       "      <td>bitcoin</td>\n",
       "    </tr>\n",
       "  </tbody>\n",
       "</table>\n",
       "</div>"
      ],
      "text/plain": [
       "                         date         price  total_volume    market_cap  \\\n",
       "3368  2024-03-23 00:00:00.000  63509.044965  4.243660e+10  1.247366e+12   \n",
       "3369  2024-03-24 00:00:00.000  64285.802791  2.548993e+10  1.264722e+12   \n",
       "3370  2024-03-25 00:00:00.000  67310.983268  2.809832e+10  1.323456e+12   \n",
       "3371  2024-03-26 00:00:00.000  69938.945302  4.482031e+10  1.371797e+12   \n",
       "3372  2024-03-27 00:00:00.000  70082.051225  3.625732e+10  1.375729e+12   \n",
       "\n",
       "     coin_name  \n",
       "3368   bitcoin  \n",
       "3369   bitcoin  \n",
       "3370   bitcoin  \n",
       "3371   bitcoin  \n",
       "3372   bitcoin  "
      ]
     },
     "metadata": {},
     "output_type": "display_data"
    },
    {
     "data": {
      "text/plain": [
       "'Número de linhas e colunas:'"
      ]
     },
     "metadata": {},
     "output_type": "display_data"
    },
    {
     "data": {
      "text/plain": [
       "(3373, 5)"
      ]
     },
     "metadata": {},
     "output_type": "display_data"
    },
    {
     "data": {
      "text/plain": [
       "'Tipos de dados em cada coluna:'"
      ]
     },
     "metadata": {},
     "output_type": "display_data"
    },
    {
     "data": {
      "text/plain": [
       "date             object\n",
       "price           float64\n",
       "total_volume    float64\n",
       "market_cap      float64\n",
       "coin_name        object\n",
       "dtype: object"
      ]
     },
     "metadata": {},
     "output_type": "display_data"
    },
    {
     "data": {
      "text/plain": [
       "'Estatísticas descritivas:'"
      ]
     },
     "metadata": {},
     "output_type": "display_data"
    },
    {
     "data": {
      "text/html": [
       "<div>\n",
       "<style scoped>\n",
       "    .dataframe tbody tr th:only-of-type {\n",
       "        vertical-align: middle;\n",
       "    }\n",
       "\n",
       "    .dataframe tbody tr th {\n",
       "        vertical-align: top;\n",
       "    }\n",
       "\n",
       "    .dataframe thead th {\n",
       "        text-align: right;\n",
       "    }\n",
       "</style>\n",
       "<table border=\"1\" class=\"dataframe\">\n",
       "  <thead>\n",
       "    <tr style=\"text-align: right;\">\n",
       "      <th></th>\n",
       "      <th>price</th>\n",
       "      <th>total_volume</th>\n",
       "      <th>market_cap</th>\n",
       "    </tr>\n",
       "  </thead>\n",
       "  <tbody>\n",
       "    <tr>\n",
       "      <th>count</th>\n",
       "      <td>3373.000000</td>\n",
       "      <td>3.373000e+03</td>\n",
       "      <td>3.372000e+03</td>\n",
       "    </tr>\n",
       "    <tr>\n",
       "      <th>mean</th>\n",
       "      <td>16010.058094</td>\n",
       "      <td>1.724184e+10</td>\n",
       "      <td>3.008013e+11</td>\n",
       "    </tr>\n",
       "    <tr>\n",
       "      <th>std</th>\n",
       "      <td>17194.074719</td>\n",
       "      <td>1.883256e+10</td>\n",
       "      <td>3.296922e+11</td>\n",
       "    </tr>\n",
       "    <tr>\n",
       "      <th>min</th>\n",
       "      <td>172.147900</td>\n",
       "      <td>1.823845e+07</td>\n",
       "      <td>2.362640e+09</td>\n",
       "    </tr>\n",
       "    <tr>\n",
       "      <th>25%</th>\n",
       "      <td>1280.986000</td>\n",
       "      <td>1.454057e+09</td>\n",
       "      <td>2.085192e+10</td>\n",
       "    </tr>\n",
       "    <tr>\n",
       "      <th>50%</th>\n",
       "      <td>8881.391704</td>\n",
       "      <td>1.237354e+10</td>\n",
       "      <td>1.583968e+11</td>\n",
       "    </tr>\n",
       "    <tr>\n",
       "      <th>75%</th>\n",
       "      <td>26848.239940</td>\n",
       "      <td>2.743276e+10</td>\n",
       "      <td>5.211950e+11</td>\n",
       "    </tr>\n",
       "    <tr>\n",
       "      <th>max</th>\n",
       "      <td>73097.767027</td>\n",
       "      <td>1.788941e+11</td>\n",
       "      <td>1.436631e+12</td>\n",
       "    </tr>\n",
       "  </tbody>\n",
       "</table>\n",
       "</div>"
      ],
      "text/plain": [
       "              price  total_volume    market_cap\n",
       "count   3373.000000  3.373000e+03  3.372000e+03\n",
       "mean   16010.058094  1.724184e+10  3.008013e+11\n",
       "std    17194.074719  1.883256e+10  3.296922e+11\n",
       "min      172.147900  1.823845e+07  2.362640e+09\n",
       "25%     1280.986000  1.454057e+09  2.085192e+10\n",
       "50%     8881.391704  1.237354e+10  1.583968e+11\n",
       "75%    26848.239940  2.743276e+10  5.211950e+11\n",
       "max    73097.767027  1.788941e+11  1.436631e+12"
      ]
     },
     "metadata": {},
     "output_type": "display_data"
    },
    {
     "data": {
      "text/plain": [
       "'Valores ausentes por coluna:'"
      ]
     },
     "metadata": {},
     "output_type": "display_data"
    },
    {
     "data": {
      "text/plain": [
       "date            0\n",
       "price           0\n",
       "total_volume    0\n",
       "market_cap      1\n",
       "coin_name       0\n",
       "dtype: int64"
      ]
     },
     "metadata": {},
     "output_type": "display_data"
    }
   ],
   "source": [
    "dados = pd.read_csv('..\\\\data\\\\bitcoin.csv')\n",
    "display(dados.head())\n",
    "display(dados.tail())\n",
    "display(\"Número de linhas e colunas:\", dados.shape)\n",
    "display(\"Tipos de dados em cada coluna:\", dados.dtypes)\n",
    "display(\"Estatísticas descritivas:\", dados.describe())\n",
    "display(\"Valores ausentes por coluna:\", dados.isnull().sum())"
   ]
  },
  {
   "cell_type": "markdown",
   "metadata": {},
   "source": [
    "## Cardano"
   ]
  },
  {
   "cell_type": "code",
   "execution_count": 64,
   "metadata": {},
   "outputs": [
    {
     "data": {
      "text/html": [
       "<div>\n",
       "<style scoped>\n",
       "    .dataframe tbody tr th:only-of-type {\n",
       "        vertical-align: middle;\n",
       "    }\n",
       "\n",
       "    .dataframe tbody tr th {\n",
       "        vertical-align: top;\n",
       "    }\n",
       "\n",
       "    .dataframe thead th {\n",
       "        text-align: right;\n",
       "    }\n",
       "</style>\n",
       "<table border=\"1\" class=\"dataframe\">\n",
       "  <thead>\n",
       "    <tr style=\"text-align: right;\">\n",
       "      <th></th>\n",
       "      <th>date</th>\n",
       "      <th>price</th>\n",
       "      <th>total_volume</th>\n",
       "      <th>market_cap</th>\n",
       "      <th>coin_name</th>\n",
       "    </tr>\n",
       "  </thead>\n",
       "  <tbody>\n",
       "    <tr>\n",
       "      <th>0</th>\n",
       "      <td>2017-10-18 00:00:00.000</td>\n",
       "      <td>0.026845</td>\n",
       "      <td>2.351678e+06</td>\n",
       "      <td>6.960214e+08</td>\n",
       "      <td>cardano</td>\n",
       "    </tr>\n",
       "    <tr>\n",
       "      <th>1</th>\n",
       "      <td>2017-10-19 00:00:00.000</td>\n",
       "      <td>0.026830</td>\n",
       "      <td>2.815156e+06</td>\n",
       "      <td>6.956220e+08</td>\n",
       "      <td>cardano</td>\n",
       "    </tr>\n",
       "    <tr>\n",
       "      <th>2</th>\n",
       "      <td>2017-10-20 00:00:00.000</td>\n",
       "      <td>0.030300</td>\n",
       "      <td>8.883473e+06</td>\n",
       "      <td>7.855800e+08</td>\n",
       "      <td>cardano</td>\n",
       "    </tr>\n",
       "    <tr>\n",
       "      <th>3</th>\n",
       "      <td>2017-10-21 00:00:00.000</td>\n",
       "      <td>0.028588</td>\n",
       "      <td>5.308857e+06</td>\n",
       "      <td>7.412021e+08</td>\n",
       "      <td>cardano</td>\n",
       "    </tr>\n",
       "    <tr>\n",
       "      <th>4</th>\n",
       "      <td>2017-10-22 00:00:00.000</td>\n",
       "      <td>0.027796</td>\n",
       "      <td>2.901876e+06</td>\n",
       "      <td>7.206698e+08</td>\n",
       "      <td>cardano</td>\n",
       "    </tr>\n",
       "  </tbody>\n",
       "</table>\n",
       "</div>"
      ],
      "text/plain": [
       "                      date     price  total_volume    market_cap coin_name\n",
       "0  2017-10-18 00:00:00.000  0.026845  2.351678e+06  6.960214e+08   cardano\n",
       "1  2017-10-19 00:00:00.000  0.026830  2.815156e+06  6.956220e+08   cardano\n",
       "2  2017-10-20 00:00:00.000  0.030300  8.883473e+06  7.855800e+08   cardano\n",
       "3  2017-10-21 00:00:00.000  0.028588  5.308857e+06  7.412021e+08   cardano\n",
       "4  2017-10-22 00:00:00.000  0.027796  2.901876e+06  7.206698e+08   cardano"
      ]
     },
     "metadata": {},
     "output_type": "display_data"
    },
    {
     "data": {
      "text/html": [
       "<div>\n",
       "<style scoped>\n",
       "    .dataframe tbody tr th:only-of-type {\n",
       "        vertical-align: middle;\n",
       "    }\n",
       "\n",
       "    .dataframe tbody tr th {\n",
       "        vertical-align: top;\n",
       "    }\n",
       "\n",
       "    .dataframe thead th {\n",
       "        text-align: right;\n",
       "    }\n",
       "</style>\n",
       "<table border=\"1\" class=\"dataframe\">\n",
       "  <thead>\n",
       "    <tr style=\"text-align: right;\">\n",
       "      <th></th>\n",
       "      <th>date</th>\n",
       "      <th>price</th>\n",
       "      <th>total_volume</th>\n",
       "      <th>market_cap</th>\n",
       "      <th>coin_name</th>\n",
       "    </tr>\n",
       "  </thead>\n",
       "  <tbody>\n",
       "    <tr>\n",
       "      <th>2348</th>\n",
       "      <td>2024-03-23 00:00:00.000</td>\n",
       "      <td>0.612304</td>\n",
       "      <td>5.758087e+08</td>\n",
       "      <td>2.153622e+10</td>\n",
       "      <td>cardano</td>\n",
       "    </tr>\n",
       "    <tr>\n",
       "      <th>2349</th>\n",
       "      <td>2024-03-24 00:00:00.000</td>\n",
       "      <td>0.626207</td>\n",
       "      <td>3.812064e+08</td>\n",
       "      <td>2.208666e+10</td>\n",
       "      <td>cardano</td>\n",
       "    </tr>\n",
       "    <tr>\n",
       "      <th>2350</th>\n",
       "      <td>2024-03-25 00:00:00.000</td>\n",
       "      <td>0.646025</td>\n",
       "      <td>4.004577e+08</td>\n",
       "      <td>2.277152e+10</td>\n",
       "      <td>cardano</td>\n",
       "    </tr>\n",
       "    <tr>\n",
       "      <th>2351</th>\n",
       "      <td>2024-03-26 00:00:00.000</td>\n",
       "      <td>0.656200</td>\n",
       "      <td>5.787429e+08</td>\n",
       "      <td>2.307331e+10</td>\n",
       "      <td>cardano</td>\n",
       "    </tr>\n",
       "    <tr>\n",
       "      <th>2352</th>\n",
       "      <td>2024-03-27 00:00:00.000</td>\n",
       "      <td>0.665379</td>\n",
       "      <td>6.076638e+08</td>\n",
       "      <td>2.342586e+10</td>\n",
       "      <td>cardano</td>\n",
       "    </tr>\n",
       "  </tbody>\n",
       "</table>\n",
       "</div>"
      ],
      "text/plain": [
       "                         date     price  total_volume    market_cap coin_name\n",
       "2348  2024-03-23 00:00:00.000  0.612304  5.758087e+08  2.153622e+10   cardano\n",
       "2349  2024-03-24 00:00:00.000  0.626207  3.812064e+08  2.208666e+10   cardano\n",
       "2350  2024-03-25 00:00:00.000  0.646025  4.004577e+08  2.277152e+10   cardano\n",
       "2351  2024-03-26 00:00:00.000  0.656200  5.787429e+08  2.307331e+10   cardano\n",
       "2352  2024-03-27 00:00:00.000  0.665379  6.076638e+08  2.342586e+10   cardano"
      ]
     },
     "metadata": {},
     "output_type": "display_data"
    },
    {
     "data": {
      "text/plain": [
       "'Número de linhas e colunas:'"
      ]
     },
     "metadata": {},
     "output_type": "display_data"
    },
    {
     "data": {
      "text/plain": [
       "(2353, 5)"
      ]
     },
     "metadata": {},
     "output_type": "display_data"
    },
    {
     "data": {
      "text/plain": [
       "'Tipos de dados em cada coluna:'"
      ]
     },
     "metadata": {},
     "output_type": "display_data"
    },
    {
     "data": {
      "text/plain": [
       "date             object\n",
       "price           float64\n",
       "total_volume    float64\n",
       "market_cap      float64\n",
       "coin_name        object\n",
       "dtype: object"
      ]
     },
     "metadata": {},
     "output_type": "display_data"
    },
    {
     "data": {
      "text/plain": [
       "'Estatísticas descritivas:'"
      ]
     },
     "metadata": {},
     "output_type": "display_data"
    },
    {
     "data": {
      "text/html": [
       "<div>\n",
       "<style scoped>\n",
       "    .dataframe tbody tr th:only-of-type {\n",
       "        vertical-align: middle;\n",
       "    }\n",
       "\n",
       "    .dataframe tbody tr th {\n",
       "        vertical-align: top;\n",
       "    }\n",
       "\n",
       "    .dataframe thead th {\n",
       "        text-align: right;\n",
       "    }\n",
       "</style>\n",
       "<table border=\"1\" class=\"dataframe\">\n",
       "  <thead>\n",
       "    <tr style=\"text-align: right;\">\n",
       "      <th></th>\n",
       "      <th>price</th>\n",
       "      <th>total_volume</th>\n",
       "      <th>market_cap</th>\n",
       "    </tr>\n",
       "  </thead>\n",
       "  <tbody>\n",
       "    <tr>\n",
       "      <th>count</th>\n",
       "      <td>2353.000000</td>\n",
       "      <td>2.353000e+03</td>\n",
       "      <td>2.353000e+03</td>\n",
       "    </tr>\n",
       "    <tr>\n",
       "      <th>mean</th>\n",
       "      <td>0.467850</td>\n",
       "      <td>9.122158e+08</td>\n",
       "      <td>1.510230e+10</td>\n",
       "    </tr>\n",
       "    <tr>\n",
       "      <th>std</th>\n",
       "      <td>0.564315</td>\n",
       "      <td>1.697217e+09</td>\n",
       "      <td>1.812564e+10</td>\n",
       "    </tr>\n",
       "    <tr>\n",
       "      <th>min</th>\n",
       "      <td>0.021321</td>\n",
       "      <td>1.729975e+06</td>\n",
       "      <td>5.527801e+08</td>\n",
       "    </tr>\n",
       "    <tr>\n",
       "      <th>25%</th>\n",
       "      <td>0.078962</td>\n",
       "      <td>1.103830e+08</td>\n",
       "      <td>2.450912e+09</td>\n",
       "    </tr>\n",
       "    <tr>\n",
       "      <th>50%</th>\n",
       "      <td>0.276512</td>\n",
       "      <td>2.973533e+08</td>\n",
       "      <td>9.161704e+09</td>\n",
       "    </tr>\n",
       "    <tr>\n",
       "      <th>75%</th>\n",
       "      <td>0.545526</td>\n",
       "      <td>8.063161e+08</td>\n",
       "      <td>1.817721e+10</td>\n",
       "    </tr>\n",
       "    <tr>\n",
       "      <th>max</th>\n",
       "      <td>2.967075</td>\n",
       "      <td>1.743601e+10</td>\n",
       "      <td>9.500373e+10</td>\n",
       "    </tr>\n",
       "  </tbody>\n",
       "</table>\n",
       "</div>"
      ],
      "text/plain": [
       "             price  total_volume    market_cap\n",
       "count  2353.000000  2.353000e+03  2.353000e+03\n",
       "mean      0.467850  9.122158e+08  1.510230e+10\n",
       "std       0.564315  1.697217e+09  1.812564e+10\n",
       "min       0.021321  1.729975e+06  5.527801e+08\n",
       "25%       0.078962  1.103830e+08  2.450912e+09\n",
       "50%       0.276512  2.973533e+08  9.161704e+09\n",
       "75%       0.545526  8.063161e+08  1.817721e+10\n",
       "max       2.967075  1.743601e+10  9.500373e+10"
      ]
     },
     "metadata": {},
     "output_type": "display_data"
    },
    {
     "data": {
      "text/plain": [
       "'Valores ausentes por coluna:'"
      ]
     },
     "metadata": {},
     "output_type": "display_data"
    },
    {
     "data": {
      "text/plain": [
       "date            0\n",
       "price           0\n",
       "total_volume    0\n",
       "market_cap      0\n",
       "coin_name       0\n",
       "dtype: int64"
      ]
     },
     "metadata": {},
     "output_type": "display_data"
    }
   ],
   "source": [
    "dados = pd.read_csv('..\\\\data\\\\cardano.csv')\n",
    "display(dados.head())\n",
    "display(dados.tail())\n",
    "display(\"Número de linhas e colunas:\", dados.shape)\n",
    "display(\"Tipos de dados em cada coluna:\", dados.dtypes)\n",
    "display(\"Estatísticas descritivas:\", dados.describe())\n",
    "display(\"Valores ausentes por coluna:\", dados.isnull().sum())"
   ]
  },
  {
   "cell_type": "markdown",
   "metadata": {},
   "source": [
    "## Dai"
   ]
  },
  {
   "cell_type": "code",
   "execution_count": 65,
   "metadata": {},
   "outputs": [
    {
     "data": {
      "text/html": [
       "<div>\n",
       "<style scoped>\n",
       "    .dataframe tbody tr th:only-of-type {\n",
       "        vertical-align: middle;\n",
       "    }\n",
       "\n",
       "    .dataframe tbody tr th {\n",
       "        vertical-align: top;\n",
       "    }\n",
       "\n",
       "    .dataframe thead th {\n",
       "        text-align: right;\n",
       "    }\n",
       "</style>\n",
       "<table border=\"1\" class=\"dataframe\">\n",
       "  <thead>\n",
       "    <tr style=\"text-align: right;\">\n",
       "      <th></th>\n",
       "      <th>date</th>\n",
       "      <th>price</th>\n",
       "      <th>total_volume</th>\n",
       "      <th>market_cap</th>\n",
       "      <th>coin_name</th>\n",
       "    </tr>\n",
       "  </thead>\n",
       "  <tbody>\n",
       "    <tr>\n",
       "      <th>0</th>\n",
       "      <td>2019-11-19</td>\n",
       "      <td>1.000651</td>\n",
       "      <td>8.727642e+05</td>\n",
       "      <td>1.437646e+06</td>\n",
       "      <td>dai</td>\n",
       "    </tr>\n",
       "    <tr>\n",
       "      <th>1</th>\n",
       "      <td>2019-11-20</td>\n",
       "      <td>0.995411</td>\n",
       "      <td>4.841469e+06</td>\n",
       "      <td>6.945898e+06</td>\n",
       "      <td>dai</td>\n",
       "    </tr>\n",
       "    <tr>\n",
       "      <th>2</th>\n",
       "      <td>2019-11-21</td>\n",
       "      <td>0.991591</td>\n",
       "      <td>1.007820e+06</td>\n",
       "      <td>8.989928e+06</td>\n",
       "      <td>dai</td>\n",
       "    </tr>\n",
       "    <tr>\n",
       "      <th>3</th>\n",
       "      <td>2019-11-22</td>\n",
       "      <td>0.991102</td>\n",
       "      <td>3.679540e+06</td>\n",
       "      <td>1.249487e+07</td>\n",
       "      <td>dai</td>\n",
       "    </tr>\n",
       "    <tr>\n",
       "      <th>4</th>\n",
       "      <td>2019-11-23</td>\n",
       "      <td>0.992850</td>\n",
       "      <td>7.201905e+06</td>\n",
       "      <td>1.439175e+07</td>\n",
       "      <td>dai</td>\n",
       "    </tr>\n",
       "  </tbody>\n",
       "</table>\n",
       "</div>"
      ],
      "text/plain": [
       "         date     price  total_volume    market_cap coin_name\n",
       "0  2019-11-19  1.000651  8.727642e+05  1.437646e+06       dai\n",
       "1  2019-11-20  0.995411  4.841469e+06  6.945898e+06       dai\n",
       "2  2019-11-21  0.991591  1.007820e+06  8.989928e+06       dai\n",
       "3  2019-11-22  0.991102  3.679540e+06  1.249487e+07       dai\n",
       "4  2019-11-23  0.992850  7.201905e+06  1.439175e+07       dai"
      ]
     },
     "metadata": {},
     "output_type": "display_data"
    },
    {
     "data": {
      "text/html": [
       "<div>\n",
       "<style scoped>\n",
       "    .dataframe tbody tr th:only-of-type {\n",
       "        vertical-align: middle;\n",
       "    }\n",
       "\n",
       "    .dataframe tbody tr th {\n",
       "        vertical-align: top;\n",
       "    }\n",
       "\n",
       "    .dataframe thead th {\n",
       "        text-align: right;\n",
       "    }\n",
       "</style>\n",
       "<table border=\"1\" class=\"dataframe\">\n",
       "  <thead>\n",
       "    <tr style=\"text-align: right;\">\n",
       "      <th></th>\n",
       "      <th>date</th>\n",
       "      <th>price</th>\n",
       "      <th>total_volume</th>\n",
       "      <th>market_cap</th>\n",
       "      <th>coin_name</th>\n",
       "    </tr>\n",
       "  </thead>\n",
       "  <tbody>\n",
       "    <tr>\n",
       "      <th>1586</th>\n",
       "      <td>2024-03-23</td>\n",
       "      <td>0.999197</td>\n",
       "      <td>7.393967e+08</td>\n",
       "      <td>4.763561e+09</td>\n",
       "      <td>dai</td>\n",
       "    </tr>\n",
       "    <tr>\n",
       "      <th>1587</th>\n",
       "      <td>2024-03-24</td>\n",
       "      <td>0.997698</td>\n",
       "      <td>5.488696e+08</td>\n",
       "      <td>4.840795e+09</td>\n",
       "      <td>dai</td>\n",
       "    </tr>\n",
       "    <tr>\n",
       "      <th>1588</th>\n",
       "      <td>2024-03-25</td>\n",
       "      <td>0.998956</td>\n",
       "      <td>4.374980e+08</td>\n",
       "      <td>4.900942e+09</td>\n",
       "      <td>dai</td>\n",
       "    </tr>\n",
       "    <tr>\n",
       "      <th>1589</th>\n",
       "      <td>2024-03-26</td>\n",
       "      <td>0.999855</td>\n",
       "      <td>3.368796e+08</td>\n",
       "      <td>4.796620e+09</td>\n",
       "      <td>dai</td>\n",
       "    </tr>\n",
       "    <tr>\n",
       "      <th>1590</th>\n",
       "      <td>2024-03-27</td>\n",
       "      <td>1.000576</td>\n",
       "      <td>4.227637e+08</td>\n",
       "      <td>4.826497e+09</td>\n",
       "      <td>dai</td>\n",
       "    </tr>\n",
       "  </tbody>\n",
       "</table>\n",
       "</div>"
      ],
      "text/plain": [
       "            date     price  total_volume    market_cap coin_name\n",
       "1586  2024-03-23  0.999197  7.393967e+08  4.763561e+09       dai\n",
       "1587  2024-03-24  0.997698  5.488696e+08  4.840795e+09       dai\n",
       "1588  2024-03-25  0.998956  4.374980e+08  4.900942e+09       dai\n",
       "1589  2024-03-26  0.999855  3.368796e+08  4.796620e+09       dai\n",
       "1590  2024-03-27  1.000576  4.227637e+08  4.826497e+09       dai"
      ]
     },
     "metadata": {},
     "output_type": "display_data"
    },
    {
     "data": {
      "text/plain": [
       "'Número de linhas e colunas:'"
      ]
     },
     "metadata": {},
     "output_type": "display_data"
    },
    {
     "data": {
      "text/plain": [
       "(1591, 5)"
      ]
     },
     "metadata": {},
     "output_type": "display_data"
    },
    {
     "data": {
      "text/plain": [
       "'Tipos de dados em cada coluna:'"
      ]
     },
     "metadata": {},
     "output_type": "display_data"
    },
    {
     "data": {
      "text/plain": [
       "date             object\n",
       "price           float64\n",
       "total_volume    float64\n",
       "market_cap      float64\n",
       "coin_name        object\n",
       "dtype: object"
      ]
     },
     "metadata": {},
     "output_type": "display_data"
    },
    {
     "data": {
      "text/plain": [
       "'Estatísticas descritivas:'"
      ]
     },
     "metadata": {},
     "output_type": "display_data"
    },
    {
     "data": {
      "text/html": [
       "<div>\n",
       "<style scoped>\n",
       "    .dataframe tbody tr th:only-of-type {\n",
       "        vertical-align: middle;\n",
       "    }\n",
       "\n",
       "    .dataframe tbody tr th {\n",
       "        vertical-align: top;\n",
       "    }\n",
       "\n",
       "    .dataframe thead th {\n",
       "        text-align: right;\n",
       "    }\n",
       "</style>\n",
       "<table border=\"1\" class=\"dataframe\">\n",
       "  <thead>\n",
       "    <tr style=\"text-align: right;\">\n",
       "      <th></th>\n",
       "      <th>price</th>\n",
       "      <th>total_volume</th>\n",
       "      <th>market_cap</th>\n",
       "    </tr>\n",
       "  </thead>\n",
       "  <tbody>\n",
       "    <tr>\n",
       "      <th>count</th>\n",
       "      <td>1591.000000</td>\n",
       "      <td>1.591000e+03</td>\n",
       "      <td>1.591000e+03</td>\n",
       "    </tr>\n",
       "    <tr>\n",
       "      <th>mean</th>\n",
       "      <td>1.001920</td>\n",
       "      <td>2.931258e+08</td>\n",
       "      <td>4.235643e+09</td>\n",
       "    </tr>\n",
       "    <tr>\n",
       "      <th>std</th>\n",
       "      <td>0.007484</td>\n",
       "      <td>3.123215e+08</td>\n",
       "      <td>2.817027e+09</td>\n",
       "    </tr>\n",
       "    <tr>\n",
       "      <th>min</th>\n",
       "      <td>0.927536</td>\n",
       "      <td>6.516926e+05</td>\n",
       "      <td>1.437646e+06</td>\n",
       "    </tr>\n",
       "    <tr>\n",
       "      <th>25%</th>\n",
       "      <td>0.999616</td>\n",
       "      <td>9.565285e+07</td>\n",
       "      <td>1.120877e+09</td>\n",
       "    </tr>\n",
       "    <tr>\n",
       "      <th>50%</th>\n",
       "      <td>1.000594</td>\n",
       "      <td>2.171150e+08</td>\n",
       "      <td>4.869650e+09</td>\n",
       "    </tr>\n",
       "    <tr>\n",
       "      <th>75%</th>\n",
       "      <td>1.002919</td>\n",
       "      <td>3.898333e+08</td>\n",
       "      <td>6.071987e+09</td>\n",
       "    </tr>\n",
       "    <tr>\n",
       "      <th>max</th>\n",
       "      <td>1.058512</td>\n",
       "      <td>3.574400e+09</td>\n",
       "      <td>9.951881e+09</td>\n",
       "    </tr>\n",
       "  </tbody>\n",
       "</table>\n",
       "</div>"
      ],
      "text/plain": [
       "             price  total_volume    market_cap\n",
       "count  1591.000000  1.591000e+03  1.591000e+03\n",
       "mean      1.001920  2.931258e+08  4.235643e+09\n",
       "std       0.007484  3.123215e+08  2.817027e+09\n",
       "min       0.927536  6.516926e+05  1.437646e+06\n",
       "25%       0.999616  9.565285e+07  1.120877e+09\n",
       "50%       1.000594  2.171150e+08  4.869650e+09\n",
       "75%       1.002919  3.898333e+08  6.071987e+09\n",
       "max       1.058512  3.574400e+09  9.951881e+09"
      ]
     },
     "metadata": {},
     "output_type": "display_data"
    },
    {
     "data": {
      "text/plain": [
       "'Valores ausentes por coluna:'"
      ]
     },
     "metadata": {},
     "output_type": "display_data"
    },
    {
     "data": {
      "text/plain": [
       "date            0\n",
       "price           0\n",
       "total_volume    0\n",
       "market_cap      0\n",
       "coin_name       0\n",
       "dtype: int64"
      ]
     },
     "metadata": {},
     "output_type": "display_data"
    }
   ],
   "source": [
    "dados = pd.read_csv('..\\\\data\\\\dai.csv')\n",
    "display(dados.head())\n",
    "display(dados.tail())\n",
    "display(\"Número de linhas e colunas:\", dados.shape)\n",
    "display(\"Tipos de dados em cada coluna:\", dados.dtypes)\n",
    "display(\"Estatísticas descritivas:\", dados.describe())\n",
    "display(\"Valores ausentes por coluna:\", dados.isnull().sum())"
   ]
  },
  {
   "cell_type": "markdown",
   "metadata": {},
   "source": [
    "## Dogecoin"
   ]
  },
  {
   "cell_type": "code",
   "execution_count": 66,
   "metadata": {},
   "outputs": [
    {
     "data": {
      "text/html": [
       "<div>\n",
       "<style scoped>\n",
       "    .dataframe tbody tr th:only-of-type {\n",
       "        vertical-align: middle;\n",
       "    }\n",
       "\n",
       "    .dataframe tbody tr th {\n",
       "        vertical-align: top;\n",
       "    }\n",
       "\n",
       "    .dataframe thead th {\n",
       "        text-align: right;\n",
       "    }\n",
       "</style>\n",
       "<table border=\"1\" class=\"dataframe\">\n",
       "  <thead>\n",
       "    <tr style=\"text-align: right;\">\n",
       "      <th></th>\n",
       "      <th>date</th>\n",
       "      <th>price</th>\n",
       "      <th>total_volume</th>\n",
       "      <th>market_cap</th>\n",
       "      <th>coin_name</th>\n",
       "    </tr>\n",
       "  </thead>\n",
       "  <tbody>\n",
       "    <tr>\n",
       "      <th>0</th>\n",
       "      <td>2015-01-01 00:00:00.000</td>\n",
       "      <td>0.000183</td>\n",
       "      <td>283845.500641</td>\n",
       "      <td>1.780332e+07</td>\n",
       "      <td>dogecoin</td>\n",
       "    </tr>\n",
       "    <tr>\n",
       "      <th>1</th>\n",
       "      <td>2015-01-02 00:00:00.000</td>\n",
       "      <td>0.000184</td>\n",
       "      <td>363741.739089</td>\n",
       "      <td>1.784733e+07</td>\n",
       "      <td>dogecoin</td>\n",
       "    </tr>\n",
       "    <tr>\n",
       "      <th>2</th>\n",
       "      <td>2015-01-03 00:00:00.000</td>\n",
       "      <td>0.000168</td>\n",
       "      <td>270052.236025</td>\n",
       "      <td>1.632320e+07</td>\n",
       "      <td>dogecoin</td>\n",
       "    </tr>\n",
       "    <tr>\n",
       "      <th>3</th>\n",
       "      <td>2015-01-04 00:00:00.000</td>\n",
       "      <td>0.000158</td>\n",
       "      <td>353697.860482</td>\n",
       "      <td>1.538501e+07</td>\n",
       "      <td>dogecoin</td>\n",
       "    </tr>\n",
       "    <tr>\n",
       "      <th>4</th>\n",
       "      <td>2015-01-05 00:00:00.000</td>\n",
       "      <td>0.000160</td>\n",
       "      <td>554935.735782</td>\n",
       "      <td>1.560247e+07</td>\n",
       "      <td>dogecoin</td>\n",
       "    </tr>\n",
       "  </tbody>\n",
       "</table>\n",
       "</div>"
      ],
      "text/plain": [
       "                      date     price   total_volume    market_cap coin_name\n",
       "0  2015-01-01 00:00:00.000  0.000183  283845.500641  1.780332e+07  dogecoin\n",
       "1  2015-01-02 00:00:00.000  0.000184  363741.739089  1.784733e+07  dogecoin\n",
       "2  2015-01-03 00:00:00.000  0.000168  270052.236025  1.632320e+07  dogecoin\n",
       "3  2015-01-04 00:00:00.000  0.000158  353697.860482  1.538501e+07  dogecoin\n",
       "4  2015-01-05 00:00:00.000  0.000160  554935.735782  1.560247e+07  dogecoin"
      ]
     },
     "metadata": {},
     "output_type": "display_data"
    },
    {
     "data": {
      "text/html": [
       "<div>\n",
       "<style scoped>\n",
       "    .dataframe tbody tr th:only-of-type {\n",
       "        vertical-align: middle;\n",
       "    }\n",
       "\n",
       "    .dataframe tbody tr th {\n",
       "        vertical-align: top;\n",
       "    }\n",
       "\n",
       "    .dataframe thead th {\n",
       "        text-align: right;\n",
       "    }\n",
       "</style>\n",
       "<table border=\"1\" class=\"dataframe\">\n",
       "  <thead>\n",
       "    <tr style=\"text-align: right;\">\n",
       "      <th></th>\n",
       "      <th>date</th>\n",
       "      <th>price</th>\n",
       "      <th>total_volume</th>\n",
       "      <th>market_cap</th>\n",
       "      <th>coin_name</th>\n",
       "    </tr>\n",
       "  </thead>\n",
       "  <tbody>\n",
       "    <tr>\n",
       "      <th>3368</th>\n",
       "      <td>2024-03-23 00:00:00.000</td>\n",
       "      <td>0.152094</td>\n",
       "      <td>2.940855e+09</td>\n",
       "      <td>2.180657e+10</td>\n",
       "      <td>dogecoin</td>\n",
       "    </tr>\n",
       "    <tr>\n",
       "      <th>3369</th>\n",
       "      <td>2024-03-24 00:00:00.000</td>\n",
       "      <td>0.162450</td>\n",
       "      <td>3.048335e+09</td>\n",
       "      <td>2.333280e+10</td>\n",
       "      <td>dogecoin</td>\n",
       "    </tr>\n",
       "    <tr>\n",
       "      <th>3370</th>\n",
       "      <td>2024-03-25 00:00:00.000</td>\n",
       "      <td>0.176653</td>\n",
       "      <td>3.003672e+09</td>\n",
       "      <td>2.538381e+10</td>\n",
       "      <td>dogecoin</td>\n",
       "    </tr>\n",
       "    <tr>\n",
       "      <th>3371</th>\n",
       "      <td>2024-03-26 00:00:00.000</td>\n",
       "      <td>0.175062</td>\n",
       "      <td>2.788814e+09</td>\n",
       "      <td>2.510351e+10</td>\n",
       "      <td>dogecoin</td>\n",
       "    </tr>\n",
       "    <tr>\n",
       "      <th>3372</th>\n",
       "      <td>2024-03-27 00:00:00.000</td>\n",
       "      <td>0.182529</td>\n",
       "      <td>3.062788e+09</td>\n",
       "      <td>2.614014e+10</td>\n",
       "      <td>dogecoin</td>\n",
       "    </tr>\n",
       "  </tbody>\n",
       "</table>\n",
       "</div>"
      ],
      "text/plain": [
       "                         date     price  total_volume    market_cap coin_name\n",
       "3368  2024-03-23 00:00:00.000  0.152094  2.940855e+09  2.180657e+10  dogecoin\n",
       "3369  2024-03-24 00:00:00.000  0.162450  3.048335e+09  2.333280e+10  dogecoin\n",
       "3370  2024-03-25 00:00:00.000  0.176653  3.003672e+09  2.538381e+10  dogecoin\n",
       "3371  2024-03-26 00:00:00.000  0.175062  2.788814e+09  2.510351e+10  dogecoin\n",
       "3372  2024-03-27 00:00:00.000  0.182529  3.062788e+09  2.614014e+10  dogecoin"
      ]
     },
     "metadata": {},
     "output_type": "display_data"
    },
    {
     "data": {
      "text/plain": [
       "'Número de linhas e colunas:'"
      ]
     },
     "metadata": {},
     "output_type": "display_data"
    },
    {
     "data": {
      "text/plain": [
       "(3373, 5)"
      ]
     },
     "metadata": {},
     "output_type": "display_data"
    },
    {
     "data": {
      "text/plain": [
       "'Tipos de dados em cada coluna:'"
      ]
     },
     "metadata": {},
     "output_type": "display_data"
    },
    {
     "data": {
      "text/plain": [
       "date             object\n",
       "price           float64\n",
       "total_volume    float64\n",
       "market_cap      float64\n",
       "coin_name        object\n",
       "dtype: object"
      ]
     },
     "metadata": {},
     "output_type": "display_data"
    },
    {
     "data": {
      "text/plain": [
       "'Estatísticas descritivas:'"
      ]
     },
     "metadata": {},
     "output_type": "display_data"
    },
    {
     "data": {
      "text/html": [
       "<div>\n",
       "<style scoped>\n",
       "    .dataframe tbody tr th:only-of-type {\n",
       "        vertical-align: middle;\n",
       "    }\n",
       "\n",
       "    .dataframe tbody tr th {\n",
       "        vertical-align: top;\n",
       "    }\n",
       "\n",
       "    .dataframe thead th {\n",
       "        text-align: right;\n",
       "    }\n",
       "</style>\n",
       "<table border=\"1\" class=\"dataframe\">\n",
       "  <thead>\n",
       "    <tr style=\"text-align: right;\">\n",
       "      <th></th>\n",
       "      <th>price</th>\n",
       "      <th>total_volume</th>\n",
       "      <th>market_cap</th>\n",
       "    </tr>\n",
       "  </thead>\n",
       "  <tbody>\n",
       "    <tr>\n",
       "      <th>count</th>\n",
       "      <td>3373.000000</td>\n",
       "      <td>3.373000e+03</td>\n",
       "      <td>3.372000e+03</td>\n",
       "    </tr>\n",
       "    <tr>\n",
       "      <th>mean</th>\n",
       "      <td>0.044918</td>\n",
       "      <td>6.781944e+08</td>\n",
       "      <td>5.994437e+09</td>\n",
       "    </tr>\n",
       "    <tr>\n",
       "      <th>std</th>\n",
       "      <td>0.079998</td>\n",
       "      <td>2.592617e+09</td>\n",
       "      <td>1.054380e+10</td>\n",
       "    </tr>\n",
       "    <tr>\n",
       "      <th>min</th>\n",
       "      <td>0.000087</td>\n",
       "      <td>8.554881e+03</td>\n",
       "      <td>8.628938e+06</td>\n",
       "    </tr>\n",
       "    <tr>\n",
       "      <th>25%</th>\n",
       "      <td>0.000524</td>\n",
       "      <td>1.480875e+06</td>\n",
       "      <td>5.854319e+07</td>\n",
       "    </tr>\n",
       "    <tr>\n",
       "      <th>50%</th>\n",
       "      <td>0.002890</td>\n",
       "      <td>6.473532e+07</td>\n",
       "      <td>3.479060e+08</td>\n",
       "    </tr>\n",
       "    <tr>\n",
       "      <th>75%</th>\n",
       "      <td>0.069671</td>\n",
       "      <td>4.272761e+08</td>\n",
       "      <td>9.597670e+09</td>\n",
       "    </tr>\n",
       "    <tr>\n",
       "      <th>max</th>\n",
       "      <td>0.681842</td>\n",
       "      <td>5.096065e+10</td>\n",
       "      <td>8.879477e+10</td>\n",
       "    </tr>\n",
       "  </tbody>\n",
       "</table>\n",
       "</div>"
      ],
      "text/plain": [
       "             price  total_volume    market_cap\n",
       "count  3373.000000  3.373000e+03  3.372000e+03\n",
       "mean      0.044918  6.781944e+08  5.994437e+09\n",
       "std       0.079998  2.592617e+09  1.054380e+10\n",
       "min       0.000087  8.554881e+03  8.628938e+06\n",
       "25%       0.000524  1.480875e+06  5.854319e+07\n",
       "50%       0.002890  6.473532e+07  3.479060e+08\n",
       "75%       0.069671  4.272761e+08  9.597670e+09\n",
       "max       0.681842  5.096065e+10  8.879477e+10"
      ]
     },
     "metadata": {},
     "output_type": "display_data"
    },
    {
     "data": {
      "text/plain": [
       "'Valores ausentes por coluna:'"
      ]
     },
     "metadata": {},
     "output_type": "display_data"
    },
    {
     "data": {
      "text/plain": [
       "date            0\n",
       "price           0\n",
       "total_volume    0\n",
       "market_cap      1\n",
       "coin_name       0\n",
       "dtype: int64"
      ]
     },
     "metadata": {},
     "output_type": "display_data"
    }
   ],
   "source": [
    "dados = pd.read_csv('..\\\\data\\\\dogecoin.csv')\n",
    "display(dados.head())\n",
    "display(dados.tail())\n",
    "display(\"Número de linhas e colunas:\", dados.shape)\n",
    "display(\"Tipos de dados em cada coluna:\", dados.dtypes)\n",
    "display(\"Estatísticas descritivas:\", dados.describe())\n",
    "display(\"Valores ausentes por coluna:\", dados.isnull().sum())"
   ]
  },
  {
   "cell_type": "markdown",
   "metadata": {},
   "source": [
    "## Ethereum"
   ]
  },
  {
   "cell_type": "code",
   "execution_count": 67,
   "metadata": {},
   "outputs": [
    {
     "data": {
      "text/html": [
       "<div>\n",
       "<style scoped>\n",
       "    .dataframe tbody tr th:only-of-type {\n",
       "        vertical-align: middle;\n",
       "    }\n",
       "\n",
       "    .dataframe tbody tr th {\n",
       "        vertical-align: top;\n",
       "    }\n",
       "\n",
       "    .dataframe thead th {\n",
       "        text-align: right;\n",
       "    }\n",
       "</style>\n",
       "<table border=\"1\" class=\"dataframe\">\n",
       "  <thead>\n",
       "    <tr style=\"text-align: right;\">\n",
       "      <th></th>\n",
       "      <th>date</th>\n",
       "      <th>price</th>\n",
       "      <th>total_volume</th>\n",
       "      <th>market_cap</th>\n",
       "      <th>coin_name</th>\n",
       "    </tr>\n",
       "  </thead>\n",
       "  <tbody>\n",
       "    <tr>\n",
       "      <th>0</th>\n",
       "      <td>2015-08-07 00:00:00.000</td>\n",
       "      <td>2.831620</td>\n",
       "      <td>9.062200e+04</td>\n",
       "      <td>0.000000e+00</td>\n",
       "      <td>ethereum</td>\n",
       "    </tr>\n",
       "    <tr>\n",
       "      <th>1</th>\n",
       "      <td>2015-08-08 00:00:00.000</td>\n",
       "      <td>1.330750</td>\n",
       "      <td>3.680700e+05</td>\n",
       "      <td>8.033948e+07</td>\n",
       "      <td>ethereum</td>\n",
       "    </tr>\n",
       "    <tr>\n",
       "      <th>2</th>\n",
       "      <td>2015-08-10 00:00:00.000</td>\n",
       "      <td>0.687586</td>\n",
       "      <td>4.004641e+05</td>\n",
       "      <td>4.155631e+07</td>\n",
       "      <td>ethereum</td>\n",
       "    </tr>\n",
       "    <tr>\n",
       "      <th>3</th>\n",
       "      <td>2015-08-11 00:00:00.000</td>\n",
       "      <td>1.067379</td>\n",
       "      <td>1.518998e+06</td>\n",
       "      <td>6.453901e+07</td>\n",
       "      <td>ethereum</td>\n",
       "    </tr>\n",
       "    <tr>\n",
       "      <th>4</th>\n",
       "      <td>2015-08-12 00:00:00.000</td>\n",
       "      <td>1.256613</td>\n",
       "      <td>2.073893e+06</td>\n",
       "      <td>7.601326e+07</td>\n",
       "      <td>ethereum</td>\n",
       "    </tr>\n",
       "  </tbody>\n",
       "</table>\n",
       "</div>"
      ],
      "text/plain": [
       "                      date     price  total_volume    market_cap coin_name\n",
       "0  2015-08-07 00:00:00.000  2.831620  9.062200e+04  0.000000e+00  ethereum\n",
       "1  2015-08-08 00:00:00.000  1.330750  3.680700e+05  8.033948e+07  ethereum\n",
       "2  2015-08-10 00:00:00.000  0.687586  4.004641e+05  4.155631e+07  ethereum\n",
       "3  2015-08-11 00:00:00.000  1.067379  1.518998e+06  6.453901e+07  ethereum\n",
       "4  2015-08-12 00:00:00.000  1.256613  2.073893e+06  7.601326e+07  ethereum"
      ]
     },
     "metadata": {},
     "output_type": "display_data"
    },
    {
     "data": {
      "text/html": [
       "<div>\n",
       "<style scoped>\n",
       "    .dataframe tbody tr th:only-of-type {\n",
       "        vertical-align: middle;\n",
       "    }\n",
       "\n",
       "    .dataframe tbody tr th {\n",
       "        vertical-align: top;\n",
       "    }\n",
       "\n",
       "    .dataframe thead th {\n",
       "        text-align: right;\n",
       "    }\n",
       "</style>\n",
       "<table border=\"1\" class=\"dataframe\">\n",
       "  <thead>\n",
       "    <tr style=\"text-align: right;\">\n",
       "      <th></th>\n",
       "      <th>date</th>\n",
       "      <th>price</th>\n",
       "      <th>total_volume</th>\n",
       "      <th>market_cap</th>\n",
       "      <th>coin_name</th>\n",
       "    </tr>\n",
       "  </thead>\n",
       "  <tbody>\n",
       "    <tr>\n",
       "      <th>3150</th>\n",
       "      <td>2024-03-23 00:00:00.000</td>\n",
       "      <td>3322.891277</td>\n",
       "      <td>2.214306e+10</td>\n",
       "      <td>3.980049e+11</td>\n",
       "      <td>ethereum</td>\n",
       "    </tr>\n",
       "    <tr>\n",
       "      <th>3151</th>\n",
       "      <td>2024-03-24 00:00:00.000</td>\n",
       "      <td>3353.371242</td>\n",
       "      <td>1.355470e+10</td>\n",
       "      <td>4.027873e+11</td>\n",
       "      <td>ethereum</td>\n",
       "    </tr>\n",
       "    <tr>\n",
       "      <th>3152</th>\n",
       "      <td>2024-03-25 00:00:00.000</td>\n",
       "      <td>3454.257071</td>\n",
       "      <td>1.274760e+10</td>\n",
       "      <td>4.152273e+11</td>\n",
       "      <td>ethereum</td>\n",
       "    </tr>\n",
       "    <tr>\n",
       "      <th>3153</th>\n",
       "      <td>2024-03-26 00:00:00.000</td>\n",
       "      <td>3588.493402</td>\n",
       "      <td>1.990059e+10</td>\n",
       "      <td>4.298344e+11</td>\n",
       "      <td>ethereum</td>\n",
       "    </tr>\n",
       "    <tr>\n",
       "      <th>3154</th>\n",
       "      <td>2024-03-27 00:00:00.000</td>\n",
       "      <td>3591.548528</td>\n",
       "      <td>2.009472e+10</td>\n",
       "      <td>4.306392e+11</td>\n",
       "      <td>ethereum</td>\n",
       "    </tr>\n",
       "  </tbody>\n",
       "</table>\n",
       "</div>"
      ],
      "text/plain": [
       "                         date        price  total_volume    market_cap  \\\n",
       "3150  2024-03-23 00:00:00.000  3322.891277  2.214306e+10  3.980049e+11   \n",
       "3151  2024-03-24 00:00:00.000  3353.371242  1.355470e+10  4.027873e+11   \n",
       "3152  2024-03-25 00:00:00.000  3454.257071  1.274760e+10  4.152273e+11   \n",
       "3153  2024-03-26 00:00:00.000  3588.493402  1.990059e+10  4.298344e+11   \n",
       "3154  2024-03-27 00:00:00.000  3591.548528  2.009472e+10  4.306392e+11   \n",
       "\n",
       "     coin_name  \n",
       "3150  ethereum  \n",
       "3151  ethereum  \n",
       "3152  ethereum  \n",
       "3153  ethereum  \n",
       "3154  ethereum  "
      ]
     },
     "metadata": {},
     "output_type": "display_data"
    },
    {
     "data": {
      "text/plain": [
       "'Número de linhas e colunas:'"
      ]
     },
     "metadata": {},
     "output_type": "display_data"
    },
    {
     "data": {
      "text/plain": [
       "(3155, 5)"
      ]
     },
     "metadata": {},
     "output_type": "display_data"
    },
    {
     "data": {
      "text/plain": [
       "'Tipos de dados em cada coluna:'"
      ]
     },
     "metadata": {},
     "output_type": "display_data"
    },
    {
     "data": {
      "text/plain": [
       "date             object\n",
       "price           float64\n",
       "total_volume    float64\n",
       "market_cap      float64\n",
       "coin_name        object\n",
       "dtype: object"
      ]
     },
     "metadata": {},
     "output_type": "display_data"
    },
    {
     "data": {
      "text/plain": [
       "'Estatísticas descritivas:'"
      ]
     },
     "metadata": {},
     "output_type": "display_data"
    },
    {
     "data": {
      "text/html": [
       "<div>\n",
       "<style scoped>\n",
       "    .dataframe tbody tr th:only-of-type {\n",
       "        vertical-align: middle;\n",
       "    }\n",
       "\n",
       "    .dataframe tbody tr th {\n",
       "        vertical-align: top;\n",
       "    }\n",
       "\n",
       "    .dataframe thead th {\n",
       "        text-align: right;\n",
       "    }\n",
       "</style>\n",
       "<table border=\"1\" class=\"dataframe\">\n",
       "  <thead>\n",
       "    <tr style=\"text-align: right;\">\n",
       "      <th></th>\n",
       "      <th>price</th>\n",
       "      <th>total_volume</th>\n",
       "      <th>market_cap</th>\n",
       "    </tr>\n",
       "  </thead>\n",
       "  <tbody>\n",
       "    <tr>\n",
       "      <th>count</th>\n",
       "      <td>3155.000000</td>\n",
       "      <td>3.155000e+03</td>\n",
       "      <td>3.154000e+03</td>\n",
       "    </tr>\n",
       "    <tr>\n",
       "      <th>mean</th>\n",
       "      <td>978.137716</td>\n",
       "      <td>9.737273e+09</td>\n",
       "      <td>1.141281e+11</td>\n",
       "    </tr>\n",
       "    <tr>\n",
       "      <th>std</th>\n",
       "      <td>1126.239249</td>\n",
       "      <td>1.225058e+10</td>\n",
       "      <td>1.347679e+11</td>\n",
       "    </tr>\n",
       "    <tr>\n",
       "      <th>min</th>\n",
       "      <td>0.432979</td>\n",
       "      <td>8.707480e+04</td>\n",
       "      <td>0.000000e+00</td>\n",
       "    </tr>\n",
       "    <tr>\n",
       "      <th>25%</th>\n",
       "      <td>136.668195</td>\n",
       "      <td>5.622946e+08</td>\n",
       "      <td>1.453821e+10</td>\n",
       "    </tr>\n",
       "    <tr>\n",
       "      <th>50%</th>\n",
       "      <td>365.130551</td>\n",
       "      <td>6.798862e+09</td>\n",
       "      <td>3.897366e+10</td>\n",
       "    </tr>\n",
       "    <tr>\n",
       "      <th>75%</th>\n",
       "      <td>1724.202715</td>\n",
       "      <td>1.423274e+10</td>\n",
       "      <td>2.046819e+11</td>\n",
       "    </tr>\n",
       "    <tr>\n",
       "      <th>max</th>\n",
       "      <td>4815.004634</td>\n",
       "      <td>1.409065e+11</td>\n",
       "      <td>5.716658e+11</td>\n",
       "    </tr>\n",
       "  </tbody>\n",
       "</table>\n",
       "</div>"
      ],
      "text/plain": [
       "             price  total_volume    market_cap\n",
       "count  3155.000000  3.155000e+03  3.154000e+03\n",
       "mean    978.137716  9.737273e+09  1.141281e+11\n",
       "std    1126.239249  1.225058e+10  1.347679e+11\n",
       "min       0.432979  8.707480e+04  0.000000e+00\n",
       "25%     136.668195  5.622946e+08  1.453821e+10\n",
       "50%     365.130551  6.798862e+09  3.897366e+10\n",
       "75%    1724.202715  1.423274e+10  2.046819e+11\n",
       "max    4815.004634  1.409065e+11  5.716658e+11"
      ]
     },
     "metadata": {},
     "output_type": "display_data"
    },
    {
     "data": {
      "text/plain": [
       "'Valores ausentes por coluna:'"
      ]
     },
     "metadata": {},
     "output_type": "display_data"
    },
    {
     "data": {
      "text/plain": [
       "date            0\n",
       "price           0\n",
       "total_volume    0\n",
       "market_cap      1\n",
       "coin_name       0\n",
       "dtype: int64"
      ]
     },
     "metadata": {},
     "output_type": "display_data"
    }
   ],
   "source": [
    "dados = pd.read_csv('..\\\\data\\\\ethereum.csv')\n",
    "display(dados.head())\n",
    "display(dados.tail())\n",
    "display(\"Número de linhas e colunas:\", dados.shape)\n",
    "display(\"Tipos de dados em cada coluna:\", dados.dtypes)\n",
    "display(\"Estatísticas descritivas:\", dados.describe())\n",
    "display(\"Valores ausentes por coluna:\", dados.isnull().sum())"
   ]
  },
  {
   "cell_type": "markdown",
   "metadata": {},
   "source": [
    "## Tether"
   ]
  },
  {
   "cell_type": "code",
   "execution_count": 68,
   "metadata": {},
   "outputs": [
    {
     "data": {
      "text/html": [
       "<div>\n",
       "<style scoped>\n",
       "    .dataframe tbody tr th:only-of-type {\n",
       "        vertical-align: middle;\n",
       "    }\n",
       "\n",
       "    .dataframe tbody tr th {\n",
       "        vertical-align: top;\n",
       "    }\n",
       "\n",
       "    .dataframe thead th {\n",
       "        text-align: right;\n",
       "    }\n",
       "</style>\n",
       "<table border=\"1\" class=\"dataframe\">\n",
       "  <thead>\n",
       "    <tr style=\"text-align: right;\">\n",
       "      <th></th>\n",
       "      <th>date</th>\n",
       "      <th>price</th>\n",
       "      <th>total_volume</th>\n",
       "      <th>market_cap</th>\n",
       "      <th>coin_name</th>\n",
       "    </tr>\n",
       "  </thead>\n",
       "  <tbody>\n",
       "    <tr>\n",
       "      <th>0</th>\n",
       "      <td>2015-02-25 00:00:00.000</td>\n",
       "      <td>1.210160</td>\n",
       "      <td>5.0</td>\n",
       "      <td>304476.0</td>\n",
       "      <td>tether</td>\n",
       "    </tr>\n",
       "    <tr>\n",
       "      <th>1</th>\n",
       "      <td>2015-03-02 00:00:00.000</td>\n",
       "      <td>0.572521</td>\n",
       "      <td>2.0</td>\n",
       "      <td>144046.0</td>\n",
       "      <td>tether</td>\n",
       "    </tr>\n",
       "    <tr>\n",
       "      <th>2</th>\n",
       "      <td>2015-03-06 00:00:00.000</td>\n",
       "      <td>1.000000</td>\n",
       "      <td>50.0</td>\n",
       "      <td>251600.0</td>\n",
       "      <td>tether</td>\n",
       "    </tr>\n",
       "    <tr>\n",
       "      <th>3</th>\n",
       "      <td>2015-03-07 00:00:00.000</td>\n",
       "      <td>1.000000</td>\n",
       "      <td>58196.0</td>\n",
       "      <td>251600.0</td>\n",
       "      <td>tether</td>\n",
       "    </tr>\n",
       "    <tr>\n",
       "      <th>4</th>\n",
       "      <td>2015-03-08 00:00:00.000</td>\n",
       "      <td>1.000000</td>\n",
       "      <td>31.0</td>\n",
       "      <td>251600.0</td>\n",
       "      <td>tether</td>\n",
       "    </tr>\n",
       "  </tbody>\n",
       "</table>\n",
       "</div>"
      ],
      "text/plain": [
       "                      date     price  total_volume  market_cap coin_name\n",
       "0  2015-02-25 00:00:00.000  1.210160           5.0    304476.0    tether\n",
       "1  2015-03-02 00:00:00.000  0.572521           2.0    144046.0    tether\n",
       "2  2015-03-06 00:00:00.000  1.000000          50.0    251600.0    tether\n",
       "3  2015-03-07 00:00:00.000  1.000000       58196.0    251600.0    tether\n",
       "4  2015-03-08 00:00:00.000  1.000000          31.0    251600.0    tether"
      ]
     },
     "metadata": {},
     "output_type": "display_data"
    },
    {
     "data": {
      "text/html": [
       "<div>\n",
       "<style scoped>\n",
       "    .dataframe tbody tr th:only-of-type {\n",
       "        vertical-align: middle;\n",
       "    }\n",
       "\n",
       "    .dataframe tbody tr th {\n",
       "        vertical-align: top;\n",
       "    }\n",
       "\n",
       "    .dataframe thead th {\n",
       "        text-align: right;\n",
       "    }\n",
       "</style>\n",
       "<table border=\"1\" class=\"dataframe\">\n",
       "  <thead>\n",
       "    <tr style=\"text-align: right;\">\n",
       "      <th></th>\n",
       "      <th>date</th>\n",
       "      <th>price</th>\n",
       "      <th>total_volume</th>\n",
       "      <th>market_cap</th>\n",
       "      <th>coin_name</th>\n",
       "    </tr>\n",
       "  </thead>\n",
       "  <tbody>\n",
       "    <tr>\n",
       "      <th>3291</th>\n",
       "      <td>2024-03-23 00:00:00.000</td>\n",
       "      <td>1.000523</td>\n",
       "      <td>7.293388e+10</td>\n",
       "      <td>1.040430e+11</td>\n",
       "      <td>tether</td>\n",
       "    </tr>\n",
       "    <tr>\n",
       "      <th>3292</th>\n",
       "      <td>2024-03-24 00:00:00.000</td>\n",
       "      <td>0.999078</td>\n",
       "      <td>4.642947e+10</td>\n",
       "      <td>1.039951e+11</td>\n",
       "      <td>tether</td>\n",
       "    </tr>\n",
       "    <tr>\n",
       "      <th>3293</th>\n",
       "      <td>2024-03-25 00:00:00.000</td>\n",
       "      <td>1.000330</td>\n",
       "      <td>4.658544e+10</td>\n",
       "      <td>1.040294e+11</td>\n",
       "      <td>tether</td>\n",
       "    </tr>\n",
       "    <tr>\n",
       "      <th>3294</th>\n",
       "      <td>2024-03-26 00:00:00.000</td>\n",
       "      <td>0.999959</td>\n",
       "      <td>7.362847e+10</td>\n",
       "      <td>1.037910e+11</td>\n",
       "      <td>tether</td>\n",
       "    </tr>\n",
       "    <tr>\n",
       "      <th>3295</th>\n",
       "      <td>2024-03-27 00:00:00.000</td>\n",
       "      <td>1.001435</td>\n",
       "      <td>3.202314e+10</td>\n",
       "      <td>1.041711e+11</td>\n",
       "      <td>tether</td>\n",
       "    </tr>\n",
       "  </tbody>\n",
       "</table>\n",
       "</div>"
      ],
      "text/plain": [
       "                         date     price  total_volume    market_cap coin_name\n",
       "3291  2024-03-23 00:00:00.000  1.000523  7.293388e+10  1.040430e+11    tether\n",
       "3292  2024-03-24 00:00:00.000  0.999078  4.642947e+10  1.039951e+11    tether\n",
       "3293  2024-03-25 00:00:00.000  1.000330  4.658544e+10  1.040294e+11    tether\n",
       "3294  2024-03-26 00:00:00.000  0.999959  7.362847e+10  1.037910e+11    tether\n",
       "3295  2024-03-27 00:00:00.000  1.001435  3.202314e+10  1.041711e+11    tether"
      ]
     },
     "metadata": {},
     "output_type": "display_data"
    },
    {
     "data": {
      "text/plain": [
       "'Número de linhas e colunas:'"
      ]
     },
     "metadata": {},
     "output_type": "display_data"
    },
    {
     "data": {
      "text/plain": [
       "(3296, 5)"
      ]
     },
     "metadata": {},
     "output_type": "display_data"
    },
    {
     "data": {
      "text/plain": [
       "'Tipos de dados em cada coluna:'"
      ]
     },
     "metadata": {},
     "output_type": "display_data"
    },
    {
     "data": {
      "text/plain": [
       "date             object\n",
       "price           float64\n",
       "total_volume    float64\n",
       "market_cap      float64\n",
       "coin_name        object\n",
       "dtype: object"
      ]
     },
     "metadata": {},
     "output_type": "display_data"
    },
    {
     "data": {
      "text/plain": [
       "'Estatísticas descritivas:'"
      ]
     },
     "metadata": {},
     "output_type": "display_data"
    },
    {
     "data": {
      "text/html": [
       "<div>\n",
       "<style scoped>\n",
       "    .dataframe tbody tr th:only-of-type {\n",
       "        vertical-align: middle;\n",
       "    }\n",
       "\n",
       "    .dataframe tbody tr th {\n",
       "        vertical-align: top;\n",
       "    }\n",
       "\n",
       "    .dataframe thead th {\n",
       "        text-align: right;\n",
       "    }\n",
       "</style>\n",
       "<table border=\"1\" class=\"dataframe\">\n",
       "  <thead>\n",
       "    <tr style=\"text-align: right;\">\n",
       "      <th></th>\n",
       "      <th>price</th>\n",
       "      <th>total_volume</th>\n",
       "      <th>market_cap</th>\n",
       "    </tr>\n",
       "  </thead>\n",
       "  <tbody>\n",
       "    <tr>\n",
       "      <th>count</th>\n",
       "      <td>3296.000000</td>\n",
       "      <td>3.296000e+03</td>\n",
       "      <td>3.296000e+03</td>\n",
       "    </tr>\n",
       "    <tr>\n",
       "      <th>mean</th>\n",
       "      <td>1.000740</td>\n",
       "      <td>2.757640e+10</td>\n",
       "      <td>2.761759e+10</td>\n",
       "    </tr>\n",
       "    <tr>\n",
       "      <th>std</th>\n",
       "      <td>0.014968</td>\n",
       "      <td>4.040222e+10</td>\n",
       "      <td>3.472815e+10</td>\n",
       "    </tr>\n",
       "    <tr>\n",
       "      <th>min</th>\n",
       "      <td>0.572521</td>\n",
       "      <td>0.000000e+00</td>\n",
       "      <td>1.440460e+05</td>\n",
       "    </tr>\n",
       "    <tr>\n",
       "      <th>25%</th>\n",
       "      <td>0.999847</td>\n",
       "      <td>5.980491e+06</td>\n",
       "      <td>1.381668e+08</td>\n",
       "    </tr>\n",
       "    <tr>\n",
       "      <th>50%</th>\n",
       "      <td>1.000000</td>\n",
       "      <td>1.880935e+10</td>\n",
       "      <td>3.567570e+09</td>\n",
       "    </tr>\n",
       "    <tr>\n",
       "      <th>75%</th>\n",
       "      <td>1.001067</td>\n",
       "      <td>4.351455e+10</td>\n",
       "      <td>6.665588e+10</td>\n",
       "    </tr>\n",
       "    <tr>\n",
       "      <th>max</th>\n",
       "      <td>1.323095</td>\n",
       "      <td>9.267677e+11</td>\n",
       "      <td>1.041711e+11</td>\n",
       "    </tr>\n",
       "  </tbody>\n",
       "</table>\n",
       "</div>"
      ],
      "text/plain": [
       "             price  total_volume    market_cap\n",
       "count  3296.000000  3.296000e+03  3.296000e+03\n",
       "mean      1.000740  2.757640e+10  2.761759e+10\n",
       "std       0.014968  4.040222e+10  3.472815e+10\n",
       "min       0.572521  0.000000e+00  1.440460e+05\n",
       "25%       0.999847  5.980491e+06  1.381668e+08\n",
       "50%       1.000000  1.880935e+10  3.567570e+09\n",
       "75%       1.001067  4.351455e+10  6.665588e+10\n",
       "max       1.323095  9.267677e+11  1.041711e+11"
      ]
     },
     "metadata": {},
     "output_type": "display_data"
    },
    {
     "data": {
      "text/plain": [
       "'Valores ausentes por coluna:'"
      ]
     },
     "metadata": {},
     "output_type": "display_data"
    },
    {
     "data": {
      "text/plain": [
       "date            0\n",
       "price           0\n",
       "total_volume    0\n",
       "market_cap      0\n",
       "coin_name       0\n",
       "dtype: int64"
      ]
     },
     "metadata": {},
     "output_type": "display_data"
    }
   ],
   "source": [
    "dados = pd.read_csv('..\\\\data\\\\tether.csv')\n",
    "display(dados.head())\n",
    "display(dados.tail())\n",
    "display(\"Número de linhas e colunas:\", dados.shape)\n",
    "display(\"Tipos de dados em cada coluna:\", dados.dtypes)\n",
    "display(\"Estatísticas descritivas:\", dados.describe())\n",
    "display(\"Valores ausentes por coluna:\", dados.isnull().sum())"
   ]
  },
  {
   "cell_type": "markdown",
   "metadata": {},
   "source": [
    "## Usd-Coin"
   ]
  },
  {
   "cell_type": "code",
   "execution_count": 69,
   "metadata": {},
   "outputs": [
    {
     "data": {
      "text/html": [
       "<div>\n",
       "<style scoped>\n",
       "    .dataframe tbody tr th:only-of-type {\n",
       "        vertical-align: middle;\n",
       "    }\n",
       "\n",
       "    .dataframe tbody tr th {\n",
       "        vertical-align: top;\n",
       "    }\n",
       "\n",
       "    .dataframe thead th {\n",
       "        text-align: right;\n",
       "    }\n",
       "</style>\n",
       "<table border=\"1\" class=\"dataframe\">\n",
       "  <thead>\n",
       "    <tr style=\"text-align: right;\">\n",
       "      <th></th>\n",
       "      <th>date</th>\n",
       "      <th>price</th>\n",
       "      <th>total_volume</th>\n",
       "      <th>market_cap</th>\n",
       "      <th>coin_name</th>\n",
       "    </tr>\n",
       "  </thead>\n",
       "  <tbody>\n",
       "    <tr>\n",
       "      <th>0</th>\n",
       "      <td>2018-10-05</td>\n",
       "      <td>1.006242</td>\n",
       "      <td>31264.420430</td>\n",
       "      <td>0.0</td>\n",
       "      <td>usd-coin</td>\n",
       "    </tr>\n",
       "    <tr>\n",
       "      <th>1</th>\n",
       "      <td>2018-10-06</td>\n",
       "      <td>1.001530</td>\n",
       "      <td>20254.712255</td>\n",
       "      <td>0.0</td>\n",
       "      <td>usd-coin</td>\n",
       "    </tr>\n",
       "    <tr>\n",
       "      <th>2</th>\n",
       "      <td>2018-10-07</td>\n",
       "      <td>1.001177</td>\n",
       "      <td>49324.690669</td>\n",
       "      <td>0.0</td>\n",
       "      <td>usd-coin</td>\n",
       "    </tr>\n",
       "    <tr>\n",
       "      <th>3</th>\n",
       "      <td>2018-10-08</td>\n",
       "      <td>1.001906</td>\n",
       "      <td>47076.728142</td>\n",
       "      <td>0.0</td>\n",
       "      <td>usd-coin</td>\n",
       "    </tr>\n",
       "    <tr>\n",
       "      <th>4</th>\n",
       "      <td>2018-10-09</td>\n",
       "      <td>1.001983</td>\n",
       "      <td>55542.215509</td>\n",
       "      <td>0.0</td>\n",
       "      <td>usd-coin</td>\n",
       "    </tr>\n",
       "  </tbody>\n",
       "</table>\n",
       "</div>"
      ],
      "text/plain": [
       "         date     price  total_volume  market_cap coin_name\n",
       "0  2018-10-05  1.006242  31264.420430         0.0  usd-coin\n",
       "1  2018-10-06  1.001530  20254.712255         0.0  usd-coin\n",
       "2  2018-10-07  1.001177  49324.690669         0.0  usd-coin\n",
       "3  2018-10-08  1.001906  47076.728142         0.0  usd-coin\n",
       "4  2018-10-09  1.001983  55542.215509         0.0  usd-coin"
      ]
     },
     "metadata": {},
     "output_type": "display_data"
    },
    {
     "data": {
      "text/html": [
       "<div>\n",
       "<style scoped>\n",
       "    .dataframe tbody tr th:only-of-type {\n",
       "        vertical-align: middle;\n",
       "    }\n",
       "\n",
       "    .dataframe tbody tr th {\n",
       "        vertical-align: top;\n",
       "    }\n",
       "\n",
       "    .dataframe thead th {\n",
       "        text-align: right;\n",
       "    }\n",
       "</style>\n",
       "<table border=\"1\" class=\"dataframe\">\n",
       "  <thead>\n",
       "    <tr style=\"text-align: right;\">\n",
       "      <th></th>\n",
       "      <th>date</th>\n",
       "      <th>price</th>\n",
       "      <th>total_volume</th>\n",
       "      <th>market_cap</th>\n",
       "      <th>coin_name</th>\n",
       "    </tr>\n",
       "  </thead>\n",
       "  <tbody>\n",
       "    <tr>\n",
       "      <th>1996</th>\n",
       "      <td>2024-03-23</td>\n",
       "      <td>1.000441</td>\n",
       "      <td>9.566842e+09</td>\n",
       "      <td>3.199607e+10</td>\n",
       "      <td>usd-coin</td>\n",
       "    </tr>\n",
       "    <tr>\n",
       "      <th>1997</th>\n",
       "      <td>2024-03-24</td>\n",
       "      <td>0.999066</td>\n",
       "      <td>4.645743e+09</td>\n",
       "      <td>3.200932e+10</td>\n",
       "      <td>usd-coin</td>\n",
       "    </tr>\n",
       "    <tr>\n",
       "      <th>1998</th>\n",
       "      <td>2024-03-25</td>\n",
       "      <td>0.999945</td>\n",
       "      <td>5.149487e+09</td>\n",
       "      <td>3.204422e+10</td>\n",
       "      <td>usd-coin</td>\n",
       "    </tr>\n",
       "    <tr>\n",
       "      <th>1999</th>\n",
       "      <td>2024-03-26</td>\n",
       "      <td>1.000579</td>\n",
       "      <td>8.311289e+09</td>\n",
       "      <td>3.218123e+10</td>\n",
       "      <td>usd-coin</td>\n",
       "    </tr>\n",
       "    <tr>\n",
       "      <th>2000</th>\n",
       "      <td>2024-03-27</td>\n",
       "      <td>0.999968</td>\n",
       "      <td>8.587868e+09</td>\n",
       "      <td>3.224784e+10</td>\n",
       "      <td>usd-coin</td>\n",
       "    </tr>\n",
       "  </tbody>\n",
       "</table>\n",
       "</div>"
      ],
      "text/plain": [
       "            date     price  total_volume    market_cap coin_name\n",
       "1996  2024-03-23  1.000441  9.566842e+09  3.199607e+10  usd-coin\n",
       "1997  2024-03-24  0.999066  4.645743e+09  3.200932e+10  usd-coin\n",
       "1998  2024-03-25  0.999945  5.149487e+09  3.204422e+10  usd-coin\n",
       "1999  2024-03-26  1.000579  8.311289e+09  3.218123e+10  usd-coin\n",
       "2000  2024-03-27  0.999968  8.587868e+09  3.224784e+10  usd-coin"
      ]
     },
     "metadata": {},
     "output_type": "display_data"
    },
    {
     "data": {
      "text/plain": [
       "'Número de linhas e colunas:'"
      ]
     },
     "metadata": {},
     "output_type": "display_data"
    },
    {
     "data": {
      "text/plain": [
       "(2001, 5)"
      ]
     },
     "metadata": {},
     "output_type": "display_data"
    },
    {
     "data": {
      "text/plain": [
       "'Tipos de dados em cada coluna:'"
      ]
     },
     "metadata": {},
     "output_type": "display_data"
    },
    {
     "data": {
      "text/plain": [
       "date             object\n",
       "price           float64\n",
       "total_volume    float64\n",
       "market_cap      float64\n",
       "coin_name        object\n",
       "dtype: object"
      ]
     },
     "metadata": {},
     "output_type": "display_data"
    },
    {
     "data": {
      "text/plain": [
       "'Estatísticas descritivas:'"
      ]
     },
     "metadata": {},
     "output_type": "display_data"
    },
    {
     "data": {
      "text/html": [
       "<div>\n",
       "<style scoped>\n",
       "    .dataframe tbody tr th:only-of-type {\n",
       "        vertical-align: middle;\n",
       "    }\n",
       "\n",
       "    .dataframe tbody tr th {\n",
       "        vertical-align: top;\n",
       "    }\n",
       "\n",
       "    .dataframe thead th {\n",
       "        text-align: right;\n",
       "    }\n",
       "</style>\n",
       "<table border=\"1\" class=\"dataframe\">\n",
       "  <thead>\n",
       "    <tr style=\"text-align: right;\">\n",
       "      <th></th>\n",
       "      <th>price</th>\n",
       "      <th>total_volume</th>\n",
       "      <th>market_cap</th>\n",
       "    </tr>\n",
       "  </thead>\n",
       "  <tbody>\n",
       "    <tr>\n",
       "      <th>count</th>\n",
       "      <td>2001.000000</td>\n",
       "      <td>2.001000e+03</td>\n",
       "      <td>2.001000e+03</td>\n",
       "    </tr>\n",
       "    <tr>\n",
       "      <th>mean</th>\n",
       "      <td>1.001074</td>\n",
       "      <td>3.002374e+09</td>\n",
       "      <td>2.030514e+10</td>\n",
       "    </tr>\n",
       "    <tr>\n",
       "      <th>std</th>\n",
       "      <td>0.004304</td>\n",
       "      <td>3.813483e+09</td>\n",
       "      <td>1.931706e+10</td>\n",
       "    </tr>\n",
       "    <tr>\n",
       "      <th>min</th>\n",
       "      <td>0.965578</td>\n",
       "      <td>2.025471e+04</td>\n",
       "      <td>0.000000e+00</td>\n",
       "    </tr>\n",
       "    <tr>\n",
       "      <th>25%</th>\n",
       "      <td>0.999507</td>\n",
       "      <td>5.392012e+08</td>\n",
       "      <td>4.789451e+08</td>\n",
       "    </tr>\n",
       "    <tr>\n",
       "      <th>50%</th>\n",
       "      <td>1.000324</td>\n",
       "      <td>2.321677e+09</td>\n",
       "      <td>2.429130e+10</td>\n",
       "    </tr>\n",
       "    <tr>\n",
       "      <th>75%</th>\n",
       "      <td>1.001613</td>\n",
       "      <td>4.229592e+09</td>\n",
       "      <td>3.437585e+10</td>\n",
       "    </tr>\n",
       "    <tr>\n",
       "      <th>max</th>\n",
       "      <td>1.043465</td>\n",
       "      <td>1.102918e+11</td>\n",
       "      <td>5.615979e+10</td>\n",
       "    </tr>\n",
       "  </tbody>\n",
       "</table>\n",
       "</div>"
      ],
      "text/plain": [
       "             price  total_volume    market_cap\n",
       "count  2001.000000  2.001000e+03  2.001000e+03\n",
       "mean      1.001074  3.002374e+09  2.030514e+10\n",
       "std       0.004304  3.813483e+09  1.931706e+10\n",
       "min       0.965578  2.025471e+04  0.000000e+00\n",
       "25%       0.999507  5.392012e+08  4.789451e+08\n",
       "50%       1.000324  2.321677e+09  2.429130e+10\n",
       "75%       1.001613  4.229592e+09  3.437585e+10\n",
       "max       1.043465  1.102918e+11  5.615979e+10"
      ]
     },
     "metadata": {},
     "output_type": "display_data"
    },
    {
     "data": {
      "text/plain": [
       "'Valores ausentes por coluna:'"
      ]
     },
     "metadata": {},
     "output_type": "display_data"
    },
    {
     "data": {
      "text/plain": [
       "date            0\n",
       "price           0\n",
       "total_volume    0\n",
       "market_cap      0\n",
       "coin_name       0\n",
       "dtype: int64"
      ]
     },
     "metadata": {},
     "output_type": "display_data"
    }
   ],
   "source": [
    "dados = pd.read_csv('..\\\\data\\\\usd-coin.csv')\n",
    "display(dados.head())\n",
    "display(dados.tail())\n",
    "display(\"Número de linhas e colunas:\", dados.shape)\n",
    "display(\"Tipos de dados em cada coluna:\", dados.dtypes)\n",
    "display(\"Estatísticas descritivas:\", dados.describe())\n",
    "display(\"Valores ausentes por coluna:\", dados.isnull().sum())"
   ]
  }
 ],
 "metadata": {
  "kernelspec": {
   "display_name": ".venv",
   "language": "python",
   "name": "python3"
  },
  "language_info": {
   "codemirror_mode": {
    "name": "ipython",
    "version": 3
   },
   "file_extension": ".py",
   "mimetype": "text/x-python",
   "name": "python",
   "nbconvert_exporter": "python",
   "pygments_lexer": "ipython3",
   "version": "3.8.0"
  }
 },
 "nbformat": 4,
 "nbformat_minor": 2
}
